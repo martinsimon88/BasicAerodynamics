{
 "cells": [
  {
   "cell_type": "markdown",
   "metadata": {},
   "source": [
    "# Assignment 2\n",
    "Basic Aerodynamics  \n",
    "s134166 Aleksander Andersen  \n",
    "s000000 Martin Simon"
   ]
  },
  {
   "cell_type": "code",
   "execution_count": 1,
   "metadata": {
    "collapsed": true
   },
   "outputs": [],
   "source": [
    "# Modules\n",
    "import numpy as np\n",
    "import matplotlib.pyplot as plt\n",
    "%matplotlib inline"
   ]
  },
  {
   "cell_type": "markdown",
   "metadata": {},
   "source": [
    "### (1)\n",
    "Employ the fundamental equation of Prandtl’s lifting-line theory to determine the distribution of induced angle of attack along the wing for different aspect ratios, AR, and angles of attack, AOA. Plot the distributions for AR = 4, 6, 8, 10 and AOA = 0°, 5°, 10°. Compute the corresponding induced drag and lift coefficients."
   ]
  },
  {
   "cell_type": "markdown",
   "metadata": {},
   "source": [
    "The fundamental equation of Prandtl's lifting line theory is\n",
    "$$ \\alpha(y_0) = \\dfrac{\\Gamma(y_0)}{\\pi V_{\\infty}c(y_0)}\n",
    "+ \\alpha_{L=0}(y_0) + \\dfrac{1}{4\\pi V_{\\infty}} \\int_{-b/2}^{b/2} \\dfrac{(d\\Gamma/dy)dy}{y_0-y}$$  \n",
    "where  \n",
    "$y$: lifting line axis  \n",
    "$b$: wing span ( $ \\pm b/2$)  "
   ]
  },
  {
   "cell_type": "markdown",
   "metadata": {},
   "source": [
    "$\\text{AR} =b^2/S$  \n",
    "$S$: area (for rectangular plate)"
   ]
  },
  {
   "cell_type": "markdown",
   "metadata": {},
   "source": [
    "$S=cb \\Rightarrow \\text{AR}=b/c$"
   ]
  },
  {
   "cell_type": "markdown",
   "metadata": {},
   "source": [
    "Eq. 8.44a rewritten with $A_R= b/c$  \n",
    "$ \\sum_{n=1}^\\infty A_n \\sin{n\\theta}\n",
    "\\left( \\dfrac{4 \\, A_R(\\theta)}{m_0(\\theta)} + \\dfrac{n}{\\sin{\\theta}}\n",
    "\\right) = \\alpha (\\theta) - \\alpha_{L0}(\\theta)$  \n",
    "Corresponds to matrix equation  \n",
    "$Ax=b$"
   ]
  },
  {
   "cell_type": "code",
   "execution_count": 99,
   "metadata": {
    "collapsed": false
   },
   "outputs": [
    {
     "data": {
      "text/plain": [
       "<matplotlib.text.Text at 0x1184f4550>"
      ]
     },
     "execution_count": 99,
     "metadata": {},
     "output_type": "execute_result"
    },
    {
     "data": {
      "image/png": "[encoded data removed]",
      "text/plain": [
       "<matplotlib.figure.Figure at 0x1185ec198>"
      ]
     },
     "metadata": {},
     "output_type": "display_data"
    }
   ],
   "source": [
    "m0 = 0.11*180/np.pi\n",
    "AR = 4\n",
    "alpha = 10 *np.pi/180\n",
    "alpha_L0 = -4 *np.pi/180\n",
    "\n",
    "n_max = 10 # number of terms in sum\n",
    "n = np.linspace(1,n_max,n_max).astype(int)\n",
    "\n",
    "nEQ = n_max # number of equations (theta values)\n",
    "nEQ2 = int(nEQ+2)\n",
    "theta = np.linspace(np.pi/nEQ, np.pi-np.pi/nEQ, nEQ)\n",
    "#theta= theta[1: nEQ2-1]\n",
    "\n",
    "M = np.empty((nEQ, n_max)) # Empty matrix (100x100)\n",
    "b = np.empty( nEQ )\n",
    "for i in range(nEQ):\n",
    "    for j in range(n_max):\n",
    "        M[i,j] = np.sin(n[j]*theta[i]) *(4*AR/m0 + n[j]/np.sin(theta[i]))\n",
    "    b[i] = alpha-alpha_L0\n",
    "\n",
    "An = np.linalg.solve(M,b)\n",
    "plt.plot(n,An,'-bo')\n",
    "plt.grid()\n",
    "plt.xlabel('n')\n",
    "plt.ylabel('A_n')"
   ]
  },
  {
   "cell_type": "code",
   "execution_count": 95,
   "metadata": {
    "collapsed": false
   },
   "outputs": [
    {
     "data": {
      "image/png": "[encoded data removed]",
      "text/plain": [
       "<matplotlib.figure.Figure at 0x117ab04e0>"
      ]
     },
     "metadata": {},
     "output_type": "display_data"
    }
   ],
   "source": [
    "alpha_i = np.empty(nEQ)\n",
    "for i in range(nEQ):\n",
    "    alpha_i[i] = sum(n*An*np.sin(n*theta[i])/np.sin(theta[i]))\n",
    "plt.plot(theta*180/np.pi,alpha_i*180/np.pi)\n",
    "plt.xlabel('theta [°]')\n",
    "plt.ylabel('Induced angle [°]')\n",
    "plt.show()"
   ]
  },
  {
   "cell_type": "code",
   "execution_count": null,
   "metadata": {
    "collapsed": true
   },
   "outputs": [],
   "source": []
  }
 ],
 "metadata": {
  "kernelspec": {
   "display_name": "Python [Root]",
   "language": "python",
   "name": "Python [Root]"
  },
  "language_info": {
   "codemirror_mode": {
    "name": "ipython",
    "version": 3
   },
   "file_extension": ".py",
   "mimetype": "text/x-python",
   "name": "python",
   "nbconvert_exporter": "python",
   "pygments_lexer": "ipython3",
   "version": "3.5.2"
  }
 },
 "nbformat": 4,
 "nbformat_minor": 0
}
